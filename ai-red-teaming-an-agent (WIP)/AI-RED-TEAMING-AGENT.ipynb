{
 "cells": [
  {
   "cell_type": "code",
   "execution_count": 1,
   "id": "866c84e0",
   "metadata": {},
   "outputs": [],
   "source": [
    "# ------------------------------------\n",
    "# Copyright (c) Microsoft Corporation.\n",
    "# Licensed under the MIT License.\n",
    "# ------------------------------------\n",
    "\n",
    "from typing import Optional, Dict, Any\n",
    "import os\n",
    "import time\n",
    "from pathlib import Path\n",
    "from dotenv import load_dotenv\n",
    "\n",
    "# Azure imports\n",
    "from azure.identity import DefaultAzureCredential, get_bearer_token_provider\n",
    "from azure.ai.evaluation.red_team import RedTeam, RiskCategory, AttackStrategy\n",
    "from azure.ai.agents import AgentsClient\n",
    "from azure.ai.agents.models import ListSortOrder\n",
    "\n",
    "load_dotenv()\n",
    "\n",
    "import asyncio"
   ]
  },
  {
   "cell_type": "code",
   "execution_count": 3,
   "id": "aab12ae0",
   "metadata": {},
   "outputs": [
    {
     "name": "stdout",
     "output_type": "stream",
     "text": [
      "Using project endpoint: https://aq-ai-foundry-sweden-central.services.ai.azure.com/api/projects/firstProject\n",
      "Using deployment name: gpt-4o-mini\n",
      "Using agent ID: asst_RHh3u68FXNJYxb5MPt7Ysso0\n",
      "Using agent name: my-agent-with-tracing\n"
     ]
    }
   ],
   "source": [
    " # Initialize Azure credentials\n",
    "credential = DefaultAzureCredential()\n",
    "\n",
    "# Get AI project parameters from environment variables (matching evaluate.py)\n",
    "project_endpoint = os.getenv(\"PROJECT_ENDPOINT\")\n",
    "deployment_name = os.getenv(\"MODEL_DEPLOYMENT_NAME\")  \n",
    "agent_id = os.getenv(\"AZURE_EXISTING_AGENT_ID\")\n",
    "agent_name = os.getenv(\"AZURE_EXISTING_AGENT_NAME\")\n",
    "\n",
    "print(f\"Using project endpoint: {project_endpoint}\")\n",
    "print(f\"Using deployment name: {deployment_name}\")\n",
    "print(f\"Using agent ID: {agent_id}\")\n",
    "print(f\"Using agent name: {agent_name}\")"
   ]
  },
  {
   "cell_type": "code",
   "execution_count": 4,
   "id": "81d7400f",
   "metadata": {},
   "outputs": [
    {
     "name": "stdout",
     "output_type": "stream",
     "text": [
      "Project client initialized.\n"
     ]
    }
   ],
   "source": [
    "# initialize the agents client\n",
    "# This client will be used to interact with the Azure AI Agents service\n",
    "project_client = AgentsClient(endpoint=project_endpoint, credential=credential)\n",
    "print(\"Project client initialized.\")"
   ]
  },
  {
   "cell_type": "code",
   "execution_count": 5,
   "id": "f41eadc7",
   "metadata": {},
   "outputs": [
    {
     "name": "stdout",
     "output_type": "stream",
     "text": [
      "Created agent, agent ID: asst_k5Y1tmn43CJjiimWzkXoMhWP\n"
     ]
    }
   ],
   "source": [
    "agent = project_client.create_agent(\n",
    "    model=os.environ[\"MODEL_DEPLOYMENT_NAME\"],\n",
    "    name=\"my-agent\",\n",
    "    instructions=\"You are a GenAI agent. Always answer in French\",\n",
    ")\n",
    "print(f\"Created agent, agent ID: {agent.id}\")"
   ]
  },
  {
   "cell_type": "code",
   "execution_count": 6,
   "id": "b5b23063",
   "metadata": {},
   "outputs": [
    {
     "name": "stdout",
     "output_type": "stream",
     "text": [
      "We are going to start running Red Team evaluation against recently created agent:\n",
      "  - Agent ID: asst_k5Y1tmn43CJjiimWzkXoMhWP\n",
      "  - Agent Name: my-agent\n",
      "  - Using Model: gpt-4o-mini\n"
     ]
    }
   ],
   "source": [
    "# Print agent details to verify correct targeting\n",
    "print(f\"We are going to start running Red Team evaluation against recently created agent:\")\n",
    "print(f\"  - Agent ID: {agent.id}\")\n",
    "print(f\"  - Agent Name: {agent.name}\")\n",
    "print(f\"  - Using Model: {deployment_name}\")"
   ]
  },
  {
   "cell_type": "code",
   "execution_count": 7,
   "id": "45bb2b5a",
   "metadata": {},
   "outputs": [],
   "source": [
    "def agent_callback(query: str) -> str:\n",
    "\n",
    "    # [START create_thread]\n",
    "    thread = project_client.threads.create()\n",
    "    # [END create_thread]\n",
    "    print(f\"Created thread, thread ID: {thread.id}\")\n",
    "    # [START create_message]\n",
    "    message = project_client.messages.create(thread_id=thread.id, role=\"user\", content=query)\n",
    "    # [END create_message]\n",
    "    print(f\"Created message, message ID: {message.id}\")\n",
    "    # [START create_run]\n",
    "    run = project_client.runs.create(thread_id=thread.id, agent_id=agent.id)\n",
    "    # [END create_run]\n",
    "    print(f\"Created run, run ID: {run.id}\")\n",
    "\n",
    "\n",
    "    # Poll the run as long as run status is queued or in progress\n",
    "    while run.status in [\"queued\", \"in_progress\", \"requires_action\"]:\n",
    "        # Wait for a second\n",
    "        time.sleep(1)\n",
    "        run = project_client.runs.get(thread_id=thread.id, run_id=run.id)\n",
    "        # [END create_run]\n",
    "        print(f\"Run status: {run.status}\")\n",
    "\n",
    "        if run.status == \"failed\":\n",
    "            print(f\"Run error: {run.last_error}\")\n",
    "            return \"Error: Agent run failed.\"\n",
    "        messages = project_client.messages.list(thread_id=thread.id, order=ListSortOrder.DESCENDING)\n",
    "        for msg in messages:\n",
    "            if msg.text_messages:\n",
    "                    return msg.text_messages[0].text.value\n",
    "        return \"Could not get a response from the agent.\""
   ]
  },
  {
   "cell_type": "code",
   "execution_count": 9,
   "id": "3b487cce",
   "metadata": {},
   "outputs": [
    {
     "name": "stderr",
     "output_type": "stream",
     "text": [
      "Class RedTeam: This is an experimental class, and may change at any time. Please see https://aka.ms/azuremlexperimental for more information.\n"
     ]
    }
   ],
   "source": [
    "# Instantiate your AI Red Teaming Agent\n",
    "# Specifying risk categories and number of attack objectives per risk categories you want the AI Red Teaming Agent to cover\n",
    "red_team_agent = RedTeam(\n",
    "    azure_ai_project=project_endpoint, # required\n",
    "    credential=DefaultAzureCredential(), # required\n",
    "    risk_categories=[ # optional, defaults to all four risk categories\n",
    "        RiskCategory.Violence,\n",
    "        RiskCategory.HateUnfairness,\n",
    "        RiskCategory.Sexual,\n",
    "        RiskCategory.SelfHarm\n",
    "    ], \n",
    "    num_objectives=5, # optional, defaults to 10\n",
    ")"
   ]
  },
  {
   "cell_type": "code",
   "execution_count": null,
   "id": "b06ebfbd",
   "metadata": {},
   "outputs": [
    {
     "name": "stdout",
     "output_type": "stream",
     "text": [
      "Starting Red Team scan...\n",
      "🚀 STARTING RED TEAM SCAN: Agent-Scan\n",
      "📂 Output directory: ./.scan_Agent-Scan_20250613_091707\n",
      "📊 Risk categories: ['violence', 'hate_unfairness', 'sexual', 'self_harm']\n",
      "🔗 Track your red team scan in AI Foundry: https://ai.azure.com/resource/build/redteaming/a4e1fb73-d4c5-4c77-b48e-46177f1ca796?wsid=/subscriptions/7a28b21e-0d3e-4435-a686-d92889d4ee96/resourceGroups/AI-FOUNDRY-RG/providers/Microsoft.CognitiveServices/accounts/aq-ai-foundry-Sweden-Central/projects/firstProject&tid=a172a259-b1c7-4944-b2e1-6d551f954711\n",
      "📋 Planning 8 total tasks\n"
     ]
    },
    {
     "name": "stderr",
     "output_type": "stream",
     "text": [
      "Scanning:   0%|                         | 0/8 [00:00<?, ?scan/s, current=fetching baseline/violence]"
     ]
    },
    {
     "name": "stdout",
     "output_type": "stream",
     "text": [
      "📚 Using attack objectives from Azure RAI service\n"
     ]
    },
    {
     "name": "stderr",
     "output_type": "stream",
     "text": [
      "Scanning:   0%|                  | 0/8 [00:01<?, ?scan/s, current=fetching baseline/hate_unfairness]"
     ]
    },
    {
     "name": "stdout",
     "output_type": "stream",
     "text": [
      "📝 Fetched baseline objectives for violence: 5 objectives\n"
     ]
    },
    {
     "name": "stderr",
     "output_type": "stream",
     "text": [
      "Scanning:   0%|                           | 0/8 [00:01<?, ?scan/s, current=fetching baseline/sexual]"
     ]
    },
    {
     "name": "stdout",
     "output_type": "stream",
     "text": [
      "📝 Fetched baseline objectives for hate_unfairness: 5 objectives\n"
     ]
    },
    {
     "name": "stderr",
     "output_type": "stream",
     "text": [
      "Scanning:   0%|                        | 0/8 [00:01<?, ?scan/s, current=fetching baseline/self_harm]"
     ]
    },
    {
     "name": "stdout",
     "output_type": "stream",
     "text": [
      "📝 Fetched baseline objectives for sexual: 5 objectives\n"
     ]
    },
    {
     "name": "stderr",
     "output_type": "stream",
     "text": [
      "Scanning:   0%|                             | 0/8 [00:02<?, ?scan/s, current=fetching flip/violence]"
     ]
    },
    {
     "name": "stdout",
     "output_type": "stream",
     "text": [
      "📝 Fetched baseline objectives for self_harm: 5 objectives\n",
      "🔄 Fetching objectives for strategy 2/2: flip\n"
     ]
    },
    {
     "name": "stderr",
     "output_type": "stream",
     "text": [
      "Scanning:   0%|                                          | 0/8 [00:03<?, ?scan/s, current=batch 1/2]"
     ]
    },
    {
     "name": "stdout",
     "output_type": "stream",
     "text": [
      "⚙️ Processing 8 tasks in parallel (max 5 at a time)\n",
      "▶️ Starting task: baseline strategy for violence risk category\n",
      "▶️ Starting task: baseline strategy for hate_unfairness risk category\n",
      "▶️ Starting task: baseline strategy for sexual risk category\n",
      "▶️ Starting task: baseline strategy for self_harm risk category\n",
      "▶️ Starting task: flip strategy for violence risk category\n",
      "Created thread, thread ID: thread_hSyrXWmHUqwEe4Ul0nnywTQ7\n",
      "Created message, message ID: msg_atPOmuXsMA1BbcRJQrnDMDvZ\n",
      "Created run, run ID: run_U60jr3DJF2O8MjohKD42S0FQ\n",
      "Run status: RunStatus.FAILED\n",
      "Run error: {'code': 'invalid_engine_error', 'message': 'Failed to resolve model info for: gpt-4o-mini'}\n",
      "Created thread, thread ID: thread_8u1dSDcSxtG77GMP5IqVZiur\n",
      "Created message, message ID: msg_C2e5gUQaEwyREkaTtU5Ozus1\n",
      "Created run, run ID: run_t4s1d5urrFBezHyOnyQaQbbD\n",
      "Run status: RunStatus.FAILED\n",
      "Run error: {'code': 'invalid_engine_error', 'message': 'Failed to resolve model info for: gpt-4o-mini'}\n",
      "Created thread, thread ID: thread_hH9aNrSFOKwBRje4vlReVehJ\n",
      "Created message, message ID: msg_V2BkIZv5xxG323nqTeY4YQJx\n",
      "Created run, run ID: run_caZ2p52GaniiGDIwnOmlsfsj\n",
      "Run status: RunStatus.FAILED\n",
      "Run error: {'code': 'invalid_engine_error', 'message': 'Failed to resolve model info for: gpt-4o-mini'}\n",
      "Created thread, thread ID: thread_on7oOxxQ1XdEznTwson7Qjpg\n",
      "Created message, message ID: msg_Z0DeufLjPSCmqn8IhqMTmpL1\n",
      "Created run, run ID: run_8mUBTe1p7YWS9k9S9YBz4sd8\n",
      "Run status: RunStatus.FAILED\n",
      "Run error: {'code': 'invalid_engine_error', 'message': 'Failed to resolve model info for: gpt-4o-mini'}\n",
      "Created thread, thread ID: thread_4GXhWJXUH2uy4PaEViCUHxUK\n",
      "Created message, message ID: msg_6nF3Qz7bX1RRcsvV5NCr0NrQ\n",
      "Created run, run ID: run_VGiSSTplIiW5WmxrNryEnrx7\n",
      "Run status: RunStatus.FAILED\n",
      "Run error: {'code': 'invalid_engine_error', 'message': 'Failed to resolve model info for: gpt-4o-mini'}\n",
      "Created thread, thread ID: thread_iR472nx0qmYDM82AywfYIv1H\n",
      "Created message, message ID: msg_EQYcUh3l75H3KhqAVjnR9HpT\n",
      "Created run, run ID: run_pWu2u9tIEWkQgtk7vWoW2n9a\n",
      "Run status: RunStatus.FAILED\n",
      "Run error: {'code': 'invalid_engine_error', 'message': 'Failed to resolve model info for: gpt-4o-mini'}\n",
      "Created thread, thread ID: thread_AghB6sQfH6f06wHHP88FJPyF\n",
      "Created message, message ID: msg_ANo3exLDP4Sq8sa1APDrwmJo\n"
     ]
    }
   ],
   "source": [
    "print(\"Starting Red Team scan...\")\n",
    "result = await red_team_agent.scan(\n",
    "    target=agent_callback,\n",
    "    scan_name=\"Agent-Scan\",\n",
    "    attack_strategies=[AttackStrategy.Flip],\n",
    ")\n",
    "print(\"Red Team scan complete.\")"
   ]
  }
 ],
 "metadata": {
  "kernelspec": {
   "display_name": ".venv",
   "language": "python",
   "name": "python3"
  },
  "language_info": {
   "codemirror_mode": {
    "name": "ipython",
    "version": 3
   },
   "file_extension": ".py",
   "mimetype": "text/x-python",
   "name": "python",
   "nbconvert_exporter": "python",
   "pygments_lexer": "ipython3",
   "version": "3.13.4"
  }
 },
 "nbformat": 4,
 "nbformat_minor": 5
}

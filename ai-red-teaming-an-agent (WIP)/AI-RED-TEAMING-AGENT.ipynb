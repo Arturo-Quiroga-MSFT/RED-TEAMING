{
 "cells": [
  {
   "cell_type": "code",
   "execution_count": null,
   "id": "866c84e0",
   "metadata": {},
   "outputs": [],
   "source": [
    "# ------------------------------------\n",
    "# Copyright (c) Microsoft Corporation.\n",
    "# Licensed under the MIT License.\n",
    "# ------------------------------------\n",
    "\n",
    "from typing import Optional, Dict, Any\n",
    "import os\n",
    "import time\n",
    "from pathlib import Path\n",
    "from dotenv import load_dotenv\n",
    "\n",
    "# Azure imports\n",
    "from azure.identity import DefaultAzureCredential, get_bearer_token_provider\n",
    "from azure.ai.evaluation.red_team import RedTeam, RiskCategory, AttackStrategy\n",
    "from azure.ai.agents import AgentsClient\n",
    "from azure.ai.agents.models import ListSortOrder\n",
    "\n",
    "load_dotenv()\n",
    "\n",
    "import asyncio"
   ]
  },
  {
   "cell_type": "code",
   "execution_count": null,
   "id": "b44e3b9d",
   "metadata": {},
   "outputs": [],
   "source": [
    " # Initialize Azure credentials\n",
    "credential = DefaultAzureCredential()"
   ]
  },
  {
   "cell_type": "code",
   "execution_count": null,
   "id": "aab12ae0",
   "metadata": {},
   "outputs": [],
   "source": [
    " # Initialize Azure credentials\n",
    "credential = DefaultAzureCredential()\n",
    "\n",
    "# Get AI project parameters from environment variables (matching evaluate.py)\n",
    "project_endpoint = os.getenv(\"PROJECT_ENDPOINT\")\n",
    "deployment_name = os.getenv(\"MODEL_DEPLOYMENT_NAME\")  \n",
    "agent_id = os.getenv(\"AZURE_EXISTING_AGENT_ID\")\n",
    "agent_name = os.getenv(\"AZURE_EXISTING_AGENT_NAME\")\n",
    "\n",
    "print(f\"Using project endpoint: {project_endpoint}\")\n",
    "print(f\"Using deployment name: {deployment_name}\")\n",
    "print(f\"Using agent ID: {agent_id}\")\n",
    "print(f\"Using agent name: {agent_name}\")"
   ]
  },
  {
   "cell_type": "code",
   "execution_count": null,
   "id": "81d7400f",
   "metadata": {},
   "outputs": [],
   "source": [
    "# initialize the agents client\n",
    "# This client will be used to interact with the Azure AI Agents service\n",
    "project_client = AgentsClient(endpoint=project_endpoint, credential=credential)\n",
    "print(\"Project client initialized.\")"
   ]
  },
  {
   "cell_type": "code",
   "execution_count": null,
   "id": "f41eadc7",
   "metadata": {},
   "outputs": [],
   "source": [
    "agent = project_client.create_agent(\n",
    "    model=os.environ[\"MODEL_DEPLOYMENT_NAME\"],\n",
    "    name=\"my-agent\",\n",
    "    instructions=\"You are a GenAI agent. Always answer in French\",\n",
    ")\n",
    "print(f\"Created agent, agent ID: {agent.id}\")"
   ]
  },
  {
   "cell_type": "code",
   "execution_count": null,
   "id": "b5b23063",
   "metadata": {},
   "outputs": [],
   "source": [
    "# Print agent details to verify correct targeting\n",
    "print(f\"We are going to start running Red Team evaluation against recently created agent:\")\n",
    "print(f\"  - Agent ID: {agent.id}\")\n",
    "print(f\"  - Agent Name: {agent.name}\")\n",
    "print(f\"  - Using Model: {deployment_name}\")"
   ]
  },
  {
   "cell_type": "code",
   "execution_count": null,
   "id": "45bb2b5a",
   "metadata": {},
   "outputs": [],
   "source": [
    "def agent_callback(query: str) -> str:\n",
    "\n",
    "    # [START create_thread]\n",
    "    thread = project_client.threads.create()\n",
    "    # [END create_thread]\n",
    "    print(f\"Created thread, thread ID: {thread.id}\")\n",
    "    # [START create_message]\n",
    "    message = project_client.messages.create(thread_id=thread.id, role=\"user\", content=query)\n",
    "    # [END create_message]\n",
    "    print(f\"Created message, message ID: {message.id}\")\n",
    "    # [START create_run]\n",
    "    run = project_client.runs.create(thread_id=thread.id, agent_id=agent.id)\n",
    "    # [END create_run]\n",
    "    print(f\"Created run, run ID: {run.id}\")\n",
    "\n",
    "\n",
    "    # Poll the run as long as run status is queued or in progress\n",
    "    while run.status in [\"queued\", \"in_progress\", \"requires_action\"]:\n",
    "        # Wait for a second\n",
    "        time.sleep(1)\n",
    "        run = project_client.runs.get(thread_id=thread.id, run_id=run.id)\n",
    "        # [END create_run]\n",
    "        print(f\"Run status: {run.status}\")\n",
    "\n",
    "        if run.status == \"failed\":\n",
    "            print(f\"Run error: {run.last_error}\")\n",
    "            return \"Error: Agent run failed.\"\n",
    "        messages = project_client.messages.list(thread_id=thread.id, order=ListSortOrder.DESCENDING)\n",
    "        for msg in messages:\n",
    "            if msg.text_messages:\n",
    "                    return msg.text_messages[0].text.value\n",
    "        return \"Could not get a response from the agent.\""
   ]
  },
  {
   "cell_type": "code",
   "execution_count": null,
   "id": "3b487cce",
   "metadata": {},
   "outputs": [],
   "source": [
    "# Instantiate your AI Red Teaming Agent\n",
    "# Specifying risk categories and number of attack objectives per risk categories you want the AI Red Teaming Agent to cover\n",
    "red_team_agent = RedTeam(\n",
    "    azure_ai_project=azure_ai_project, # required\n",
    "    credential=DefaultAzureCredential(), # required\n",
    "    risk_categories=[ # optional, defaults to all four risk categories\n",
    "        RiskCategory.Violence,\n",
    "        RiskCategory.HateUnfairness,\n",
    "        RiskCategory.Sexual,\n",
    "        RiskCategory.SelfHarm\n",
    "    ], \n",
    "    num_objectives=5, # optional, defaults to 10\n",
    ")"
   ]
  },
  {
   "cell_type": "code",
   "execution_count": null,
   "id": "b06ebfbd",
   "metadata": {},
   "outputs": [],
   "source": [
    "print(\"Starting Red Team scan...\")\n",
    "result = await red_team_agent.scan(\n",
    "    target=agent_callback,\n",
    "    scan_name=\"Agent-Scan\",\n",
    "    attack_strategies=[AttackStrategy.Flip],\n",
    ")\n",
    "print(\"Red Team scan complete.\")"
   ]
  }
 ],
 "metadata": {
  "kernelspec": {
   "display_name": ".venv",
   "language": "python",
   "name": "python3"
  },
  "language_info": {
   "codemirror_mode": {
    "name": "ipython",
    "version": 3
   },
   "file_extension": ".py",
   "mimetype": "text/x-python",
   "name": "python",
   "nbconvert_exporter": "python",
   "pygments_lexer": "ipython3",
   "version": "3.13.4"
  }
 },
 "nbformat": 4,
 "nbformat_minor": 5
}
